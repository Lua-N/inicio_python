{
  "cells": [
    {
      "cell_type": "markdown",
      "metadata": {
        "id": "view-in-github",
        "colab_type": "text"
      },
      "source": [
        "<a href=\"https://colab.research.google.com/github/Lua-N/inicio_python/blob/main/prog_1.ipynb\" target=\"_parent\"><img src=\"https://colab.research.google.com/assets/colab-badge.svg\" alt=\"Open In Colab\"/></a>"
      ]
    },
    {
      "cell_type": "code",
      "execution_count": null,
      "metadata": {
        "colab": {
          "base_uri": "https://localhost:8080/"
        },
        "id": "0Bsy_TZ1bMs8",
        "outputId": "909babd2-6779-48de-ee90-8d742a9e1321"
      },
      "outputs": [
        {
          "name": "stdout",
          "output_type": "stream",
          "text": [
            "Digite seu nome: Luana\n",
            "Olá Luana!\n"
          ]
        }
      ],
      "source": [
        "nome = input('Digite seu nome: ')\n",
        "print(f'Olá {nome}!')"
      ]
    },
    {
      "cell_type": "code",
      "execution_count": null,
      "metadata": {
        "colab": {
          "base_uri": "https://localhost:8080/"
        },
        "id": "ANnoTwSTbX-Q",
        "outputId": "e36f3d59-e071-4c2c-d540-715e76807f81"
      },
      "outputs": [
        {
          "name": "stdout",
          "output_type": "stream",
          "text": [
            "Digite seu nome: Luana\n",
            "Digite sua idade: 39\n",
            "Olá Luana, você tem 39 anos de idade.\n"
          ]
        }
      ],
      "source": [
        "nome = input('Digite seu nome: ')\n",
        "idade = int(input('Digite sua idade: '))\n",
        "\n",
        "print('Olá %s, você tem %d anos de idade.' %(nome,idade))"
      ]
    },
    {
      "cell_type": "code",
      "execution_count": null,
      "metadata": {
        "colab": {
          "base_uri": "https://localhost:8080/"
        },
        "id": "Uf858klecbje",
        "outputId": "fc7c403f-3355-4ae1-8a21-d42ea7b9e3a6"
      },
      "outputs": [
        {
          "name": "stdout",
          "output_type": "stream",
          "text": [
            "Digite seu nome: Luana\n",
            "Digite sua idade: 39\n",
            "Digite sua altura em metros: 1.60\n",
            "Olá Luana, você tem 39 anos de idade e mede 1.60 metros.\n"
          ]
        }
      ],
      "source": [
        "nome = input('Digite seu nome: ')\n",
        "idade = int(input('Digite sua idade: '))\n",
        "altura = float(input('Digite sua altura em metros: '))\n",
        "\n",
        "print('Olá %s, você tem %d anos de idade e mede %.2f metros.' %(nome,idade,altura))"
      ]
    },
    {
      "cell_type": "code",
      "execution_count": null,
      "metadata": {
        "colab": {
          "base_uri": "https://localhost:8080/"
        },
        "id": "3-Ebm6N7cKRF",
        "outputId": "3e1d5b18-d4b3-475e-8ef6-2de5e7e0bf51"
      },
      "outputs": [
        {
          "name": "stdout",
          "output_type": "stream",
          "text": [
            "Digite um número inteiro: 2\n",
            "Digite um número inteiro: 4\n",
            "A soma dos dois valores é igual a 6\n"
          ]
        }
      ],
      "source": [
        "valor1 = int(input('Digite um número inteiro: '))\n",
        "valor2 = int(input('Digite um número inteiro: '))\n",
        "soma = valor1 + valor2\n",
        "\n",
        "print(f'A soma dos dois valores é igual a {soma}')"
      ]
    },
    {
      "cell_type": "code",
      "execution_count": null,
      "metadata": {
        "colab": {
          "base_uri": "https://localhost:8080/"
        },
        "id": "CTjCzwiLdS8y",
        "outputId": "56319c2b-46b2-43ab-e98c-3c565ce70325"
      },
      "outputs": [
        {
          "name": "stdout",
          "output_type": "stream",
          "text": [
            "Digite um número inteiro: 2\n",
            "Digite um número inteiro: 3\n",
            "Digite um número inteiro: 5\n",
            "A soma dos dois valores é igual a 10\n"
          ]
        }
      ],
      "source": [
        "valor1 = int(input('Digite um número inteiro: '))\n",
        "valor2 = int(input('Digite um número inteiro: '))\n",
        "valor3 = int(input('Digite um número inteiro: '))\n",
        "soma = valor1 + valor2 + valor3\n",
        "\n",
        "print(f'A soma dos dois valores é igual a {soma}')"
      ]
    },
    {
      "cell_type": "code",
      "execution_count": null,
      "metadata": {
        "colab": {
          "base_uri": "https://localhost:8080/"
        },
        "id": "gwUHicaOdaQx",
        "outputId": "18f12b25-039c-447b-c2b6-e7a4694eca76"
      },
      "outputs": [
        {
          "name": "stdout",
          "output_type": "stream",
          "text": [
            "Digite um número inteiro: 5\n",
            "Digite um número inteiro: 3\n",
            "A diferença entre os dois valores é igual a 2\n"
          ]
        }
      ],
      "source": [
        "valor1 = int(input('Digite um número inteiro: '))\n",
        "valor2 = int(input('Digite um número inteiro: '))\n",
        "diferenca = valor1 - valor2\n",
        "\n",
        "print(f'A diferença entre os dois valores é igual a {diferenca}')"
      ]
    },
    {
      "cell_type": "code",
      "execution_count": null,
      "metadata": {
        "colab": {
          "base_uri": "https://localhost:8080/"
        },
        "id": "v5A3MiOzdtul",
        "outputId": "ee978ac2-8cf8-48ac-dcdf-aee5c8e24942"
      },
      "outputs": [
        {
          "name": "stdout",
          "output_type": "stream",
          "text": [
            "Digite um número inteiro: 5\n",
            "Digite um número inteiro: 6\n",
            "O produto dos dois valores é igual a 30\n"
          ]
        }
      ],
      "source": [
        "valor1 = int(input('Digite um número inteiro: '))\n",
        "valor2 = int(input('Digite um número inteiro: '))\n",
        "multiplicacao = valor1 * valor2\n",
        "\n",
        "print(f'O produto dos dois valores é igual a {multiplicacao}')"
      ]
    },
    {
      "cell_type": "code",
      "execution_count": null,
      "metadata": {
        "colab": {
          "base_uri": "https://localhost:8080/"
        },
        "id": "L8oUn1Ald5CK",
        "outputId": "db5fc8c4-9d81-43b6-d90f-6c9e2acc4628"
      },
      "outputs": [
        {
          "name": "stdout",
          "output_type": "stream",
          "text": [
            "Digite um numerador: 5\n",
            "Digite um denominador diferente de zero: 10\n",
            "O quociente dos dois valores é igual a 0.50.\n"
          ]
        }
      ],
      "source": [
        "valor1 = int(input('Digite um numerador: '))\n",
        "valor2 = int(input('Digite um denominador diferente de zero: '))\n",
        "divisao = valor1 / valor2\n",
        "\n",
        "print(f'O quociente dos dois valores é igual a %.2f.' %(divisao))\n"
      ]
    },
    {
      "cell_type": "code",
      "execution_count": null,
      "metadata": {
        "colab": {
          "base_uri": "https://localhost:8080/"
        },
        "id": "a6ZU6pXL6Nx8",
        "outputId": "a26e0912-d81f-4da0-c7ae-f8dcf4e25b28"
      },
      "outputs": [
        {
          "name": "stdout",
          "output_type": "stream",
          "text": [
            "Digite o primeiro número: 5\n",
            "Digite o segundo número: 2\n",
            "A potência dos dois valores é igual a 25\n"
          ]
        }
      ],
      "source": [
        "valor1 = int(input('Digite o valor do operador: '))\n",
        "valor2 = int(input('Digite o valor da potência: '))\n",
        "\n",
        "exponenciacao = valor1 ** valor2\n",
        "\n",
        "print(f'O valor da exponenciação dos dois valores é igual a {exponenciacao}')\n"
      ]
    },
    {
      "cell_type": "code",
      "execution_count": null,
      "metadata": {
        "colab": {
          "base_uri": "https://localhost:8080/"
        },
        "id": "EINqvJxd85KS",
        "outputId": "fb15befb-5935-4837-ab94-377fef7d7ef7"
      },
      "outputs": [
        {
          "name": "stdout",
          "output_type": "stream",
          "text": [
            "Digite um numerador: 5\n",
            "Digite um denominador diferente de zero: 10\n",
            "O quociente dos dois valores é igual a 0.\n"
          ]
        }
      ],
      "source": [
        "valor1 = int(input('Digite um numerador: '))\n",
        "valor2 = int(input('Digite um denominador diferente de zero: '))\n",
        "divisao = valor1 // valor2\n",
        "\n",
        "print(f'O quociente inteiro dos dois valores é igual a %d.' %(divisao))"
      ]
    },
    {
      "cell_type": "code",
      "execution_count": null,
      "metadata": {
        "colab": {
          "base_uri": "https://localhost:8080/"
        },
        "id": "tIgnsL0A-DDy",
        "outputId": "5f960c2a-3f95-4d66-f1c8-340d4a2ea76b"
      },
      "outputs": [
        {
          "name": "stdout",
          "output_type": "stream",
          "text": [
            "Digite um numerador: 5\n",
            "Digite um denominador diferente de zero: 10\n",
            "O quociente dos dois valores é igual a 5.00.\n"
          ]
        }
      ],
      "source": [
        "valor1 = int(input('Digite um numerador: '))\n",
        "valor2 = int(input('Digite um denominador diferente de zero: '))\n",
        "divisao = valor1 % valor2\n",
        "\n",
        "print(f'O resto da divisão dos dois valores é igual a %.2f.' %(divisao))"
      ]
    },
    {
      "cell_type": "code",
      "execution_count": null,
      "metadata": {
        "colab": {
          "base_uri": "https://localhost:8080/"
        },
        "id": "ovN2NNlp-Vrk",
        "outputId": "aef988df-d120-4c10-dfc9-922fa913ef5f"
      },
      "outputs": [
        {
          "name": "stdout",
          "output_type": "stream",
          "text": [
            "Digite a primeira nota: 5.5\n",
            "Digite a segunda nota: 6.6\n",
            "Digite a terceira nota: 8.9\n",
            "O valor da média é igual a 6.23.\n"
          ]
        }
      ],
      "source": [
        "nota1 = float(input('Digite a primeira nota: '))\n",
        "nota2 = float(input('Digite a segunda nota: '))\n",
        "nota3 = float(input('Digite a terceira nota: '))\n",
        "media = (nota1+nota2+nota3)/3\n",
        "\n",
        "print(f'O valor da média é igual a %.2f.' %(media))"
      ]
    },
    {
      "cell_type": "code",
      "execution_count": null,
      "metadata": {
        "colab": {
          "base_uri": "https://localhost:8080/"
        },
        "id": "koJY7B9l_JRW",
        "outputId": "8bf56256-b87f-4814-960e-90eab2ecbf70"
      },
      "outputs": [
        {
          "name": "stdout",
          "output_type": "stream",
          "text": [
            "O valor da média é igual a 14.90.\n"
          ]
        }
      ],
      "source": [
        "valor1 = 5\n",
        "valor2 = 12\n",
        "valor3 = 20\n",
        "valor4 = 15\n",
        "\n",
        "peso1 = 1\n",
        "peso2 = 2\n",
        "peso3 = 3\n",
        "peso4 = 4\n",
        "\n",
        "media = ((valor1*peso1 + valor2*peso2 + valor3*peso3 + valor4*peso4)/(peso1+peso2+peso3+peso4))\n",
        "\n",
        "print(f'O valor da média é igual a %.2f.' %(media))"
      ]
    },
    {
      "cell_type": "code",
      "execution_count": null,
      "metadata": {
        "colab": {
          "base_uri": "https://localhost:8080/"
        },
        "id": "z_5wsmsLAZ0L",
        "outputId": "55548c84-110a-4132-e1ea-7f0777529f35"
      },
      "outputs": [
        {
          "name": "stdout",
          "output_type": "stream",
          "text": [
            "Estou cansada!\n"
          ]
        }
      ],
      "source": [
        "frase = 'Estou cansada!'\n",
        "print(frase)"
      ]
    },
    {
      "cell_type": "code",
      "execution_count": null,
      "metadata": {
        "colab": {
          "base_uri": "https://localhost:8080/"
        },
        "id": "ZOm0Rs_XAf_L",
        "outputId": "958dbc51-26a9-410e-9f56-580a93eeb6bc"
      },
      "outputs": [
        {
          "name": "stdout",
          "output_type": "stream",
          "text": [
            "Digite sua frase: Estou cansada!\n",
            "Estou cansada!\n"
          ]
        }
      ],
      "source": [
        "frase = input('Digite sua frase: ')\n",
        "print(frase)"
      ]
    },
    {
      "cell_type": "code",
      "execution_count": null,
      "metadata": {
        "colab": {
          "base_uri": "https://localhost:8080/",
          "height": 53
        },
        "id": "xwKRaLXtAmsT",
        "outputId": "e70c2e2d-f1e9-49dd-deb7-9b1e07b0d2ff"
      },
      "outputs": [
        {
          "name": "stdout",
          "output_type": "stream",
          "text": [
            "Digite sua frase: Estou cansada!\n"
          ]
        },
        {
          "data": {
            "application/vnd.google.colaboratory.intrinsic+json": {
              "type": "string"
            },
            "text/plain": [
              "'ESTOU CANSADA!'"
            ]
          },
          "execution_count": 38,
          "metadata": {},
          "output_type": "execute_result"
        }
      ],
      "source": [
        "frase = input('Digite sua frase: ')\n",
        "print(frase.upper())"
      ]
    },
    {
      "cell_type": "code",
      "execution_count": null,
      "metadata": {
        "colab": {
          "base_uri": "https://localhost:8080/",
          "height": 53
        },
        "id": "LePpUKF9Av4b",
        "outputId": "c9b394f3-4d96-466a-f63f-7123b4df6244"
      },
      "outputs": [
        {
          "name": "stdout",
          "output_type": "stream",
          "text": [
            "Digite sua frase: Estou cansada!\n"
          ]
        },
        {
          "data": {
            "application/vnd.google.colaboratory.intrinsic+json": {
              "type": "string"
            },
            "text/plain": [
              "'estou cansada!'"
            ]
          },
          "execution_count": 39,
          "metadata": {},
          "output_type": "execute_result"
        }
      ],
      "source": [
        "frase = input('Digite sua frase: ')\n",
        "print(frase.lower())"
      ]
    },
    {
      "cell_type": "code",
      "execution_count": null,
      "metadata": {
        "colab": {
          "base_uri": "https://localhost:8080/",
          "height": 35
        },
        "id": "YW3HBtrTBJny",
        "outputId": "f1c88855-5e12-4d13-ae5c-f78274970784"
      },
      "outputs": [
        {
          "data": {
            "application/vnd.google.colaboratory.intrinsic+json": {
              "type": "string"
            },
            "text/plain": [
              "'Estou cansada!'"
            ]
          },
          "execution_count": 42,
          "metadata": {},
          "output_type": "execute_result"
        }
      ],
      "source": [
        "frase = '  Estou cansada!  '\n",
        "print(frase.strip())"
      ]
    },
    {
      "cell_type": "code",
      "execution_count": null,
      "metadata": {
        "colab": {
          "base_uri": "https://localhost:8080/",
          "height": 53
        },
        "id": "FrDm4_itBTzx",
        "outputId": "b0df5329-4aba-479b-a63c-9967094dd766"
      },
      "outputs": [
        {
          "name": "stdout",
          "output_type": "stream",
          "text": [
            "Digite sua frase:   Estou muito cansada!   \n"
          ]
        },
        {
          "data": {
            "application/vnd.google.colaboratory.intrinsic+json": {
              "type": "string"
            },
            "text/plain": [
              "'Estou muito cansada!'"
            ]
          },
          "execution_count": 44,
          "metadata": {},
          "output_type": "execute_result"
        }
      ],
      "source": [
        "frase = input('Digite sua frase: ')\n",
        "print(frase.strip())"
      ]
    },
    {
      "cell_type": "code",
      "execution_count": null,
      "metadata": {
        "colab": {
          "base_uri": "https://localhost:8080/",
          "height": 53
        },
        "id": "dQqgd2FCBj2w",
        "outputId": "c8fe146d-1394-4545-8420-ddb1e1a90d78"
      },
      "outputs": [
        {
          "name": "stdout",
          "output_type": "stream",
          "text": [
            "Digite sua frase:    Estou mega cansada!\n"
          ]
        },
        {
          "data": {
            "application/vnd.google.colaboratory.intrinsic+json": {
              "type": "string"
            },
            "text/plain": [
              "'estou mega cansada!'"
            ]
          },
          "execution_count": 45,
          "metadata": {},
          "output_type": "execute_result"
        }
      ],
      "source": [
        "frase = input('Digite sua frase: ')\n",
        "print(frase.strip().lower())"
      ]
    },
    {
      "cell_type": "code",
      "execution_count": null,
      "metadata": {
        "colab": {
          "base_uri": "https://localhost:8080/",
          "height": 53
        },
        "id": "pFW4m9bsBv-S",
        "outputId": "f8167119-15c3-4d8b-8b9b-fac99aac9cd5"
      },
      "outputs": [
        {
          "name": "stdout",
          "output_type": "stream",
          "text": [
            "Digite sua frase: Queria comer um sorvete!\n"
          ]
        },
        {
          "data": {
            "application/vnd.google.colaboratory.intrinsic+json": {
              "type": "string"
            },
            "text/plain": [
              "'Qufria comfr um sorvftf!'"
            ]
          },
          "execution_count": 48,
          "metadata": {},
          "output_type": "execute_result"
        }
      ],
      "source": [
        "frase = input('Digite sua frase: ')\n",
        "print(frase.replace('e','f'))"
      ]
    },
    {
      "cell_type": "code",
      "execution_count": null,
      "metadata": {
        "colab": {
          "base_uri": "https://localhost:8080/"
        },
        "id": "VjZ0lrGkB68C",
        "outputId": "c94c19ff-8080-4dae-83af-2c54fae4ce7b"
      },
      "outputs": [
        {
          "name": "stdout",
          "output_type": "stream",
          "text": [
            "Digite sua frase: Estou muito cansada\n",
            "Estou muito c@ns@d@\n"
          ]
        }
      ],
      "source": [
        "frase = input('Digite sua frase: ')\n",
        "print(frase.replace('a',chr(64)))"
      ]
    },
    {
      "cell_type": "code",
      "execution_count": null,
      "metadata": {
        "colab": {
          "base_uri": "https://localhost:8080/"
        },
        "id": "Kf2vaG7aCbf6",
        "outputId": "835a9089-573f-4029-b538-3358b8066e4d"
      },
      "outputs": [
        {
          "name": "stdout",
          "output_type": "stream",
          "text": [
            "Digite sua frase: Estou muito cansada\n",
            "E$tou muito can$ada\n"
          ]
        }
      ],
      "source": [
        "frase = input('Digite sua frase: ')\n",
        "print(frase.replace('s',chr(36)))"
      ]
    },
    {
      "cell_type": "code",
      "execution_count": null,
      "metadata": {
        "colab": {
          "background_save": true
        },
        "id": "RqK214-BCryA"
      },
      "outputs": [],
      "source": []
    }
  ],
  "metadata": {
    "colab": {
      "provenance": [],
      "authorship_tag": "ABX9TyPMeuO+stUhDUOXCNEGkBeY",
      "include_colab_link": true
    },
    "kernelspec": {
      "display_name": "Python 3",
      "name": "python3"
    },
    "language_info": {
      "name": "python"
    }
  },
  "nbformat": 4,
  "nbformat_minor": 0
}